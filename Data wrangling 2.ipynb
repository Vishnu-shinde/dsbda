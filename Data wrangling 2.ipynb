{
 "cells": [
  {
   "cell_type": "code",
   "execution_count": null,
   "id": "600e4335",
   "metadata": {},
   "outputs": [],
   "source": [
    "# #Consider the “Academic performance” dataset of students (Academic_Performance_Dataset.csv) and perform the\n",
    "# following operations using Python.\n",
    "# a) Scan all variables for missing values and inconsistencies. If there are missing values and/or inconsistencies, use any\n",
    "# of the suitable techniques to deal with them.\n",
    "# b) Scan all numeric variables for outliers. If there are outliers, use any of the suitable techniques to deal with them.\n",
    "# c) Apply data transformations on categorical variables to convert it into numerical variables.\n",
    "# Reason and document your approach properly."
   ]
  },
  {
   "cell_type": "code",
   "execution_count": 17,
   "id": "c2d91b13",
   "metadata": {},
   "outputs": [],
   "source": [
    "import pandas as pd\n",
    "import numpy as np"
   ]
  },
  {
   "cell_type": "code",
   "execution_count": 5,
   "id": "81840a92",
   "metadata": {},
   "outputs": [],
   "source": [
    "df = pd.read_csv(\"C:/Users/Lenovo/Downloads/Academic.csv\")"
   ]
  },
  {
   "cell_type": "code",
   "execution_count": 6,
   "id": "9c99aaa9",
   "metadata": {},
   "outputs": [
    {
     "data": {
      "text/html": [
       "<div>\n",
       "<style scoped>\n",
       "    .dataframe tbody tr th:only-of-type {\n",
       "        vertical-align: middle;\n",
       "    }\n",
       "\n",
       "    .dataframe tbody tr th {\n",
       "        vertical-align: top;\n",
       "    }\n",
       "\n",
       "    .dataframe thead th {\n",
       "        text-align: right;\n",
       "    }\n",
       "</style>\n",
       "<table border=\"1\" class=\"dataframe\">\n",
       "  <thead>\n",
       "    <tr style=\"text-align: right;\">\n",
       "      <th></th>\n",
       "      <th>STUDENT_ID</th>\n",
       "      <th>GENDER</th>\n",
       "      <th>PLACEMENT</th>\n",
       "      <th>HONOR_OPTED_OR_NOT</th>\n",
       "      <th>EDUCATION_TYPE</th>\n",
       "      <th>ACADEMIC_PROGRAM</th>\n",
       "      <th>COURSE 1 MARKS</th>\n",
       "      <th>COURSE 2 MARKS</th>\n",
       "      <th>COURSE 3 MARKS</th>\n",
       "      <th>COURSE 4 MARKS</th>\n",
       "      <th>COURSE 5 MARKS</th>\n",
       "      <th>PERCENTILE</th>\n",
       "      <th>OVEARLL_GRADE</th>\n",
       "    </tr>\n",
       "  </thead>\n",
       "  <tbody>\n",
       "    <tr>\n",
       "      <th>0</th>\n",
       "      <td>SB11201210000129</td>\n",
       "      <td>F</td>\n",
       "      <td>Yes</td>\n",
       "      <td>Yes</td>\n",
       "      <td>ACADEMIC</td>\n",
       "      <td>INDUSTRIAL ENGINEERING</td>\n",
       "      <td>71.0</td>\n",
       "      <td>93.0</td>\n",
       "      <td>71.0</td>\n",
       "      <td>93.0</td>\n",
       "      <td>79.0</td>\n",
       "      <td>91</td>\n",
       "      <td>FIRST CLASS</td>\n",
       "    </tr>\n",
       "    <tr>\n",
       "      <th>1</th>\n",
       "      <td>SB11201210000137</td>\n",
       "      <td>F</td>\n",
       "      <td>Yes</td>\n",
       "      <td>Yes</td>\n",
       "      <td>ACADEMIC</td>\n",
       "      <td>INDUSTRIAL ENGINEERING</td>\n",
       "      <td>97.0</td>\n",
       "      <td>38.0</td>\n",
       "      <td>86.0</td>\n",
       "      <td>98.0</td>\n",
       "      <td>78.0</td>\n",
       "      <td>92</td>\n",
       "      <td>THIRD CLASS</td>\n",
       "    </tr>\n",
       "    <tr>\n",
       "      <th>2</th>\n",
       "      <td>SB11201210005154</td>\n",
       "      <td>M</td>\n",
       "      <td>No</td>\n",
       "      <td>Yes</td>\n",
       "      <td>ACADEMIC</td>\n",
       "      <td>ELECTRONIC ENGINEERING</td>\n",
       "      <td>17.0</td>\n",
       "      <td>1.0</td>\n",
       "      <td>18.0</td>\n",
       "      <td>43.0</td>\n",
       "      <td>22.0</td>\n",
       "      <td>7</td>\n",
       "      <td>DISTINCTION</td>\n",
       "    </tr>\n",
       "    <tr>\n",
       "      <th>3</th>\n",
       "      <td>SB11201210007504</td>\n",
       "      <td>F</td>\n",
       "      <td>Yes</td>\n",
       "      <td>Yes</td>\n",
       "      <td>ACADEMIC</td>\n",
       "      <td>INDUSTRIAL ENGINEERING</td>\n",
       "      <td>65.0</td>\n",
       "      <td>35.0</td>\n",
       "      <td>76.0</td>\n",
       "      <td>80.0</td>\n",
       "      <td>48.0</td>\n",
       "      <td>67</td>\n",
       "      <td>FIRST CLASS</td>\n",
       "    </tr>\n",
       "    <tr>\n",
       "      <th>4</th>\n",
       "      <td>SB11201210007548</td>\n",
       "      <td>M</td>\n",
       "      <td>Yes</td>\n",
       "      <td>Yes</td>\n",
       "      <td>ACADEMIC</td>\n",
       "      <td>INDUSTRIAL ENGINEERING</td>\n",
       "      <td>94.0</td>\n",
       "      <td>94.0</td>\n",
       "      <td>98.0</td>\n",
       "      <td>100.0</td>\n",
       "      <td>71.0</td>\n",
       "      <td>98</td>\n",
       "      <td>FIRST CLASS</td>\n",
       "    </tr>\n",
       "    <tr>\n",
       "      <th>...</th>\n",
       "      <td>...</td>\n",
       "      <td>...</td>\n",
       "      <td>...</td>\n",
       "      <td>...</td>\n",
       "      <td>...</td>\n",
       "      <td>...</td>\n",
       "      <td>...</td>\n",
       "      <td>...</td>\n",
       "      <td>...</td>\n",
       "      <td>...</td>\n",
       "      <td>...</td>\n",
       "      <td>...</td>\n",
       "      <td>...</td>\n",
       "    </tr>\n",
       "    <tr>\n",
       "      <th>12406</th>\n",
       "      <td>SB11201420568705</td>\n",
       "      <td>M</td>\n",
       "      <td>Yes</td>\n",
       "      <td>Yes</td>\n",
       "      <td>ACADEMIC</td>\n",
       "      <td>MECHATRONICS ENGINEERING</td>\n",
       "      <td>88.0</td>\n",
       "      <td>71.0</td>\n",
       "      <td>86.0</td>\n",
       "      <td>87.0</td>\n",
       "      <td>65.0</td>\n",
       "      <td>88</td>\n",
       "      <td>FIRST CLASS</td>\n",
       "    </tr>\n",
       "    <tr>\n",
       "      <th>12407</th>\n",
       "      <td>SB11201420573045</td>\n",
       "      <td>M</td>\n",
       "      <td>Yes</td>\n",
       "      <td>Yes</td>\n",
       "      <td>ACADEMIC</td>\n",
       "      <td>INDUSTRIAL ENGINEERING</td>\n",
       "      <td>46.0</td>\n",
       "      <td>39.0</td>\n",
       "      <td>44.0</td>\n",
       "      <td>11.0</td>\n",
       "      <td>0.0</td>\n",
       "      <td>4</td>\n",
       "      <td>FIRST CLASS</td>\n",
       "    </tr>\n",
       "    <tr>\n",
       "      <th>12408</th>\n",
       "      <td>SB11201420578809</td>\n",
       "      <td>M</td>\n",
       "      <td>Yes</td>\n",
       "      <td>No</td>\n",
       "      <td>ACADEMIC</td>\n",
       "      <td>INDUSTRIAL ENGINEERING</td>\n",
       "      <td>98.0</td>\n",
       "      <td>88.0</td>\n",
       "      <td>90.0</td>\n",
       "      <td>81.0</td>\n",
       "      <td>87.0</td>\n",
       "      <td>95</td>\n",
       "      <td>FIRST CLASS</td>\n",
       "    </tr>\n",
       "    <tr>\n",
       "      <th>12409</th>\n",
       "      <td>SB11201420578812</td>\n",
       "      <td>F</td>\n",
       "      <td>Yes</td>\n",
       "      <td>Yes</td>\n",
       "      <td>ACADEMIC</td>\n",
       "      <td>NaN</td>\n",
       "      <td>60.0</td>\n",
       "      <td>80.0</td>\n",
       "      <td>51.0</td>\n",
       "      <td>8.0</td>\n",
       "      <td>42.0</td>\n",
       "      <td>50</td>\n",
       "      <td>FIRST CLASS</td>\n",
       "    </tr>\n",
       "    <tr>\n",
       "      <th>12410</th>\n",
       "      <td>SB11201420583232</td>\n",
       "      <td>M</td>\n",
       "      <td>No</td>\n",
       "      <td>No</td>\n",
       "      <td>ACADEMIC</td>\n",
       "      <td>INDUSTRIAL ENGINEERING</td>\n",
       "      <td>83.0</td>\n",
       "      <td>95.0</td>\n",
       "      <td>91.0</td>\n",
       "      <td>79.0</td>\n",
       "      <td>47.0</td>\n",
       "      <td>89</td>\n",
       "      <td>THIRD CLASS</td>\n",
       "    </tr>\n",
       "  </tbody>\n",
       "</table>\n",
       "<p>12411 rows × 13 columns</p>\n",
       "</div>"
      ],
      "text/plain": [
       "             STUDENT_ID GENDER PLACEMENT HONOR_OPTED_OR_NOT EDUCATION_TYPE  \\\n",
       "0      SB11201210000129      F       Yes                Yes       ACADEMIC   \n",
       "1      SB11201210000137      F       Yes                Yes       ACADEMIC   \n",
       "2      SB11201210005154      M        No                Yes       ACADEMIC   \n",
       "3      SB11201210007504      F       Yes                Yes       ACADEMIC   \n",
       "4      SB11201210007548      M       Yes                Yes       ACADEMIC   \n",
       "...                 ...    ...       ...                ...            ...   \n",
       "12406  SB11201420568705      M       Yes                Yes       ACADEMIC   \n",
       "12407  SB11201420573045      M       Yes                Yes       ACADEMIC   \n",
       "12408  SB11201420578809      M       Yes                 No       ACADEMIC   \n",
       "12409  SB11201420578812      F       Yes                Yes       ACADEMIC   \n",
       "12410  SB11201420583232      M        No                 No       ACADEMIC   \n",
       "\n",
       "               ACADEMIC_PROGRAM  COURSE 1 MARKS  COURSE 2 MARKS  \\\n",
       "0        INDUSTRIAL ENGINEERING            71.0            93.0   \n",
       "1        INDUSTRIAL ENGINEERING            97.0            38.0   \n",
       "2        ELECTRONIC ENGINEERING            17.0             1.0   \n",
       "3        INDUSTRIAL ENGINEERING            65.0            35.0   \n",
       "4        INDUSTRIAL ENGINEERING            94.0            94.0   \n",
       "...                         ...             ...             ...   \n",
       "12406  MECHATRONICS ENGINEERING            88.0            71.0   \n",
       "12407    INDUSTRIAL ENGINEERING            46.0            39.0   \n",
       "12408    INDUSTRIAL ENGINEERING            98.0            88.0   \n",
       "12409                       NaN            60.0            80.0   \n",
       "12410    INDUSTRIAL ENGINEERING            83.0            95.0   \n",
       "\n",
       "       COURSE 3 MARKS  COURSE 4 MARKS  COURSE 5 MARKS  PERCENTILE  \\\n",
       "0                71.0            93.0            79.0          91   \n",
       "1                86.0            98.0            78.0          92   \n",
       "2                18.0            43.0            22.0           7   \n",
       "3                76.0            80.0            48.0          67   \n",
       "4                98.0           100.0            71.0          98   \n",
       "...               ...             ...             ...         ...   \n",
       "12406            86.0            87.0            65.0          88   \n",
       "12407            44.0            11.0             0.0           4   \n",
       "12408            90.0            81.0            87.0          95   \n",
       "12409            51.0             8.0            42.0          50   \n",
       "12410            91.0            79.0            47.0          89   \n",
       "\n",
       "      OVEARLL_GRADE  \n",
       "0       FIRST CLASS  \n",
       "1       THIRD CLASS  \n",
       "2       DISTINCTION  \n",
       "3       FIRST CLASS  \n",
       "4       FIRST CLASS  \n",
       "...             ...  \n",
       "12406   FIRST CLASS  \n",
       "12407   FIRST CLASS  \n",
       "12408   FIRST CLASS  \n",
       "12409   FIRST CLASS  \n",
       "12410   THIRD CLASS  \n",
       "\n",
       "[12411 rows x 13 columns]"
      ]
     },
     "execution_count": 6,
     "metadata": {},
     "output_type": "execute_result"
    }
   ],
   "source": [
    "df"
   ]
  },
  {
   "cell_type": "code",
   "execution_count": 8,
   "id": "5278a2e1",
   "metadata": {},
   "outputs": [
    {
     "data": {
      "text/html": [
       "<div>\n",
       "<style scoped>\n",
       "    .dataframe tbody tr th:only-of-type {\n",
       "        vertical-align: middle;\n",
       "    }\n",
       "\n",
       "    .dataframe tbody tr th {\n",
       "        vertical-align: top;\n",
       "    }\n",
       "\n",
       "    .dataframe thead th {\n",
       "        text-align: right;\n",
       "    }\n",
       "</style>\n",
       "<table border=\"1\" class=\"dataframe\">\n",
       "  <thead>\n",
       "    <tr style=\"text-align: right;\">\n",
       "      <th></th>\n",
       "      <th>COURSE 1 MARKS</th>\n",
       "      <th>COURSE 2 MARKS</th>\n",
       "      <th>COURSE 3 MARKS</th>\n",
       "      <th>COURSE 4 MARKS</th>\n",
       "      <th>COURSE 5 MARKS</th>\n",
       "      <th>PERCENTILE</th>\n",
       "    </tr>\n",
       "  </thead>\n",
       "  <tbody>\n",
       "    <tr>\n",
       "      <th>count</th>\n",
       "      <td>12400.000000</td>\n",
       "      <td>12403.000000</td>\n",
       "      <td>12397.000000</td>\n",
       "      <td>12397.000000</td>\n",
       "      <td>12389.000000</td>\n",
       "      <td>12411.000000</td>\n",
       "    </tr>\n",
       "    <tr>\n",
       "      <th>mean</th>\n",
       "      <td>77.385887</td>\n",
       "      <td>62.191728</td>\n",
       "      <td>59.189562</td>\n",
       "      <td>67.501815</td>\n",
       "      <td>53.690532</td>\n",
       "      <td>68.446459</td>\n",
       "    </tr>\n",
       "    <tr>\n",
       "      <th>std</th>\n",
       "      <td>22.716227</td>\n",
       "      <td>27.669357</td>\n",
       "      <td>29.002446</td>\n",
       "      <td>25.505280</td>\n",
       "      <td>30.007993</td>\n",
       "      <td>25.867550</td>\n",
       "    </tr>\n",
       "    <tr>\n",
       "      <th>min</th>\n",
       "      <td>-1.000000</td>\n",
       "      <td>1.000000</td>\n",
       "      <td>1.000000</td>\n",
       "      <td>1.000000</td>\n",
       "      <td>0.000000</td>\n",
       "      <td>1.000000</td>\n",
       "    </tr>\n",
       "    <tr>\n",
       "      <th>25%</th>\n",
       "      <td>65.000000</td>\n",
       "      <td>42.000000</td>\n",
       "      <td>36.000000</td>\n",
       "      <td>51.000000</td>\n",
       "      <td>28.000000</td>\n",
       "      <td>51.000000</td>\n",
       "    </tr>\n",
       "    <tr>\n",
       "      <th>50%</th>\n",
       "      <td>85.000000</td>\n",
       "      <td>67.000000</td>\n",
       "      <td>65.000000</td>\n",
       "      <td>74.000000</td>\n",
       "      <td>56.000000</td>\n",
       "      <td>75.000000</td>\n",
       "    </tr>\n",
       "    <tr>\n",
       "      <th>75%</th>\n",
       "      <td>96.000000</td>\n",
       "      <td>86.000000</td>\n",
       "      <td>85.000000</td>\n",
       "      <td>88.000000</td>\n",
       "      <td>80.000000</td>\n",
       "      <td>90.000000</td>\n",
       "    </tr>\n",
       "    <tr>\n",
       "      <th>max</th>\n",
       "      <td>100.000000</td>\n",
       "      <td>100.000000</td>\n",
       "      <td>122.000000</td>\n",
       "      <td>111.000000</td>\n",
       "      <td>107.000000</td>\n",
       "      <td>100.000000</td>\n",
       "    </tr>\n",
       "  </tbody>\n",
       "</table>\n",
       "</div>"
      ],
      "text/plain": [
       "       COURSE 1 MARKS  COURSE 2 MARKS  COURSE 3 MARKS  COURSE 4 MARKS  \\\n",
       "count    12400.000000    12403.000000    12397.000000    12397.000000   \n",
       "mean        77.385887       62.191728       59.189562       67.501815   \n",
       "std         22.716227       27.669357       29.002446       25.505280   \n",
       "min         -1.000000        1.000000        1.000000        1.000000   \n",
       "25%         65.000000       42.000000       36.000000       51.000000   \n",
       "50%         85.000000       67.000000       65.000000       74.000000   \n",
       "75%         96.000000       86.000000       85.000000       88.000000   \n",
       "max        100.000000      100.000000      122.000000      111.000000   \n",
       "\n",
       "       COURSE 5 MARKS    PERCENTILE  \n",
       "count    12389.000000  12411.000000  \n",
       "mean        53.690532     68.446459  \n",
       "std         30.007993     25.867550  \n",
       "min          0.000000      1.000000  \n",
       "25%         28.000000     51.000000  \n",
       "50%         56.000000     75.000000  \n",
       "75%         80.000000     90.000000  \n",
       "max        107.000000    100.000000  "
      ]
     },
     "execution_count": 8,
     "metadata": {},
     "output_type": "execute_result"
    }
   ],
   "source": [
    "df.describe()"
   ]
  },
  {
   "cell_type": "code",
   "execution_count": 10,
   "id": "0c3f4cf7",
   "metadata": {},
   "outputs": [
    {
     "data": {
      "text/plain": [
       "STUDENT_ID             object\n",
       "GENDER                 object\n",
       "PLACEMENT              object\n",
       "HONOR_OPTED_OR_NOT     object\n",
       "EDUCATION_TYPE         object\n",
       "ACADEMIC_PROGRAM       object\n",
       "COURSE 1 MARKS        float64\n",
       "COURSE 2 MARKS        float64\n",
       "COURSE 3 MARKS        float64\n",
       "COURSE 4 MARKS        float64\n",
       "COURSE 5 MARKS        float64\n",
       "PERCENTILE              int64\n",
       "OVEARLL_GRADE          object\n",
       "dtype: object"
      ]
     },
     "execution_count": 10,
     "metadata": {},
     "output_type": "execute_result"
    }
   ],
   "source": [
    "df.dtypes"
   ]
  },
  {
   "cell_type": "code",
   "execution_count": 11,
   "id": "bfc3e3e0",
   "metadata": {},
   "outputs": [
    {
     "data": {
      "text/plain": [
       "(12411, 13)"
      ]
     },
     "execution_count": 11,
     "metadata": {},
     "output_type": "execute_result"
    }
   ],
   "source": [
    "df.shape"
   ]
  },
  {
   "cell_type": "code",
   "execution_count": 12,
   "id": "0d7d9fdb",
   "metadata": {},
   "outputs": [
    {
     "data": {
      "text/plain": [
       "STUDENT_ID             0\n",
       "GENDER                22\n",
       "PLACEMENT             15\n",
       "HONOR_OPTED_OR_NOT    14\n",
       "EDUCATION_TYPE        15\n",
       "ACADEMIC_PROGRAM      34\n",
       "COURSE 1 MARKS        11\n",
       "COURSE 2 MARKS         8\n",
       "COURSE 3 MARKS        14\n",
       "COURSE 4 MARKS        14\n",
       "COURSE 5 MARKS        22\n",
       "PERCENTILE             0\n",
       "OVEARLL_GRADE          0\n",
       "dtype: int64"
      ]
     },
     "execution_count": 12,
     "metadata": {},
     "output_type": "execute_result"
    }
   ],
   "source": [
    "df.isnull().sum()"
   ]
  },
  {
   "cell_type": "code",
   "execution_count": 15,
   "id": "440f5074",
   "metadata": {},
   "outputs": [],
   "source": [
    "from sklearn.impute import SimpleImputer"
   ]
  },
  {
   "cell_type": "code",
   "execution_count": 18,
   "id": "e5901da8",
   "metadata": {},
   "outputs": [],
   "source": [
    "imputer = SimpleImputer(strategy = \"mean\", missing_values = np.nan)\n",
    "imputer1 = SimpleImputer(strategy = \"most_frequent\", missing_values = np.nan)"
   ]
  },
  {
   "cell_type": "code",
   "execution_count": 19,
   "id": "0d52c1bc",
   "metadata": {},
   "outputs": [],
   "source": [
    "df[['COURSE 1 MARKS', 'COURSE 2 MARKS', 'COURSE 3 MARKS', 'COURSE 4 MARKS', 'COURSE 5 MARKS']] = imputer.fit_transform(df[['COURSE 1 MARKS', 'COURSE 2 MARKS', 'COURSE 3 MARKS', 'COURSE 4 MARKS', 'COURSE 5 MARKS']])\n",
    "df[['PERCENTILE', 'GENDER', 'PLACEMENT', 'EDUCATION_TYPE', 'ACADEMIC_PROGRAM']] = imputer1.fit_transform(df[['PERCENTILE', 'GENDER', 'PLACEMENT', 'EDUCATION_TYPE', 'ACADEMIC_PROGRAM']])"
   ]
  },
  {
   "cell_type": "code",
   "execution_count": 20,
   "id": "b09f1fe3",
   "metadata": {},
   "outputs": [
    {
     "data": {
      "text/plain": [
       "STUDENT_ID             0\n",
       "GENDER                 0\n",
       "PLACEMENT              0\n",
       "HONOR_OPTED_OR_NOT    14\n",
       "EDUCATION_TYPE         0\n",
       "ACADEMIC_PROGRAM       0\n",
       "COURSE 1 MARKS         0\n",
       "COURSE 2 MARKS         0\n",
       "COURSE 3 MARKS         0\n",
       "COURSE 4 MARKS         0\n",
       "COURSE 5 MARKS         0\n",
       "PERCENTILE             0\n",
       "OVEARLL_GRADE          0\n",
       "dtype: int64"
      ]
     },
     "execution_count": 20,
     "metadata": {},
     "output_type": "execute_result"
    }
   ],
   "source": [
    "df.isnull().sum()"
   ]
  },
  {
   "cell_type": "code",
   "execution_count": 21,
   "id": "792f4fea",
   "metadata": {},
   "outputs": [],
   "source": [
    "df['HONOR_OPTED_OR_NOT'] =  df['HONOR_OPTED_OR_NOT'].fillna('no')"
   ]
  },
  {
   "cell_type": "code",
   "execution_count": 22,
   "id": "a2948866",
   "metadata": {},
   "outputs": [
    {
     "data": {
      "text/plain": [
       "STUDENT_ID            0\n",
       "GENDER                0\n",
       "PLACEMENT             0\n",
       "HONOR_OPTED_OR_NOT    0\n",
       "EDUCATION_TYPE        0\n",
       "ACADEMIC_PROGRAM      0\n",
       "COURSE 1 MARKS        0\n",
       "COURSE 2 MARKS        0\n",
       "COURSE 3 MARKS        0\n",
       "COURSE 4 MARKS        0\n",
       "COURSE 5 MARKS        0\n",
       "PERCENTILE            0\n",
       "OVEARLL_GRADE         0\n",
       "dtype: int64"
      ]
     },
     "execution_count": 22,
     "metadata": {},
     "output_type": "execute_result"
    }
   ],
   "source": [
    "df.isnull().sum()"
   ]
  },
  {
   "cell_type": "code",
   "execution_count": 25,
   "id": "ebbbefbc",
   "metadata": {},
   "outputs": [],
   "source": [
    "import seaborn as sns\n",
    "import matplotlib.pyplot as plt"
   ]
  },
  {
   "cell_type": "code",
   "execution_count": 26,
   "id": "f1da0545",
   "metadata": {},
   "outputs": [
    {
     "data": {
      "text/plain": [
       "<AxesSubplot:>"
      ]
     },
     "execution_count": 26,
     "metadata": {},
     "output_type": "execute_result"
    },
    {
     "data": {
      "image/png": "[encoded data removed]",
      "text/plain": [
       "<Figure size 1080x720 with 1 Axes>"
      ]
     },
     "metadata": {
      "needs_background": "light"
     },
     "output_type": "display_data"
    }
   ],
   "source": [
    "plt.figure(figsize = (15, 10))\n",
    "sns.boxplot(data=df)"
   ]
  },
  {
   "cell_type": "code",
   "execution_count": 33,
   "id": "fb0ca4d1",
   "metadata": {},
   "outputs": [
    {
     "name": "stdout",
     "output_type": "stream",
     "text": [
      "[4.0, 6.0, 3.0, 1.0, 5.0, 2.0, 8.0, 7.0, 2.0, 8.0, 6.0, 9.0, 2.0, 9.0, 8.0, 1.0, 9.0, 2.0, 2.0, 1.0, 6.0, 7.0, 4.0, 5.0, 9.0, 7.0, 9.0, 1.0, 2.0, 8.0, 5.0, 2.0, 8.0, 8.0, 1.0, 4.0, 7.0, 4.0, 7.0, 8.0, 3.0, 8.0, 5.0, 9.0, 7.0, 8.0, 7.0, 1.0, 9.0, 2.0, 7.0, 5.0, 3.0, 7.0, 3.0, 8.0, 6.0, 9.0, 8.0, 9.0, 6.0, 1.0, 7.0, 8.0, 1.0, 9.0, 1.0, 7.0, 8.0, 9.0, 6.0, 7.0, 7.0, 8.0, 4.0, 6.0, 6.0, 5.0, -1.0, 8.0, 8.0, 3.0, 1.0, 3.0, 3.0, 2.0, 9.0, 8.0, 3.0, 6.0, 3.0, 2.0, 7.0, 8.0, 4.0, 8.0, 3.0, 7.0, 9.0, 9.0, 3.0, 7.0, 6.0, 1.0, 1.0, 1.0, -1.0, 9.0, 4.0, 8.0, 7.0, 1.0, 6.0]\n"
     ]
    }
   ],
   "source": [
    "outliers = []\n",
    "def print_outliers(data):\n",
    "    thresh = 3\n",
    "    mean = np.mean(data)\n",
    "    std = np.std(data)\n",
    "    for i in data:\n",
    "        z_score = (i-mean)/std\n",
    "        if(np.abs(z_score)>thresh):\n",
    "            outliers.append(i)\n",
    "    return outliers\n",
    "\n",
    "test = print_outliers(df['COURSE 1 MARKS'])\n",
    "print(test)"
   ]
  },
  {
   "cell_type": "code",
   "execution_count": 37,
   "id": "659dd641",
   "metadata": {},
   "outputs": [],
   "source": [
    "q1 = df['COURSE 1 MARKS'].quantile(0.25)\n",
    "q3 = df['COURSE 1 MARKS'].quantile(0.75)\n",
    "IQR = q3-q1\n",
    "l_bound = q1 - (IQR*1.5)\n",
    "u_bound = q3 - (IQR*1.5)"
   ]
  },
  {
   "cell_type": "code",
   "execution_count": 39,
   "id": "54205933",
   "metadata": {},
   "outputs": [],
   "source": [
    "df = df[df['COURSE 1 MARKS'] > l_bound]\n",
    "df = df[df['COURSE 1 MARKS'] < u_bound]"
   ]
  },
  {
   "cell_type": "code",
   "execution_count": 42,
   "id": "6465e82d",
   "metadata": {},
   "outputs": [
    {
     "data": {
      "text/plain": [
       "<AxesSubplot:>"
      ]
     },
     "execution_count": 42,
     "metadata": {},
     "output_type": "execute_result"
    },
    {
     "data": {
      "image/png": "[encoded data removed]",
      "text/plain": [
       "<Figure size 1080x720 with 1 Axes>"
      ]
     },
     "metadata": {
      "needs_background": "light"
     },
     "output_type": "display_data"
    }
   ],
   "source": [
    "plt.figure(figsize = (15,10))\n",
    "sns.boxplot(data=df)"
   ]
  },
  {
   "cell_type": "code",
   "execution_count": null,
   "id": "cc63cc96",
   "metadata": {},
   "outputs": [],
   "source": []
  }
 ],
 "metadata": {
  "kernelspec": {
   "display_name": "Python 3",
   "language": "python",
   "name": "python3"
  },
  "language_info": {
   "codemirror_mode": {
    "name": "ipython",
    "version": 3
   },
   "file_extension": ".py",
   "mimetype": "text/x-python",
   "name": "python",
   "nbconvert_exporter": "python",
   "pygments_lexer": "ipython3",
   "version": "3.8.8"
  }
 },
 "nbformat": 4,
 "nbformat_minor": 5
}
